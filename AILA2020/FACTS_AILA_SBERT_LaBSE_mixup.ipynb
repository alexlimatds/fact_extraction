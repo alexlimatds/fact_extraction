{
  "nbformat": 4,
  "nbformat_minor": 0,
  "metadata": {
    "colab": {
      "name": "FACTS_AILA_SBERT_LaBSE_mixup",
      "provenance": [],
      "collapsed_sections": [
        "ulM0bcl5RFgj"
      ],
      "toc_visible": true,
      "authorship_tag": "ABX9TyMZeyzc8tyfp4y2xB3O4gan",
      "include_colab_link": true
    },
    "kernelspec": {
      "name": "python3",
      "display_name": "Python 3"
    },
    "language_info": {
      "name": "python"
    },
    "accelerator": "GPU"
  },
  "cells": [
    {
      "cell_type": "markdown",
      "metadata": {
        "id": "view-in-github",
        "colab_type": "text"
      },
      "source": [
        "<a href=\"https://colab.research.google.com/github/alexlimatds/fact_extraction/blob/main/AILA2020/FACTS_AILA_SBERT_LaBSE_mixup.ipynb\" target=\"_parent\"><img src=\"https://colab.research.google.com/assets/colab-badge.svg\" alt=\"Open In Colab\"/></a>"
      ]
    },
    {
      "cell_type": "markdown",
      "metadata": {
        "id": "ecb4RkdX37Pm"
      },
      "source": [
        "## Facts extraction with AILA data, SBERT (LaBSE) and mixup data\n",
        "\n",
        "- for training:\n",
        "  - the train dataset from AILA 2020. This can be obtained at https://github.com/Law-AI/semantic-segmentation;\n",
        "  - augmented data generated with the mixup method.\n",
        "- for test: additional train documents from AILA 2021;\n",
        "\n",
        "There are two forms of evaluation: 5-fold cross-validation and with the test set. The data split of the cross-validation approach is done in terms of documents instead sentences.\n"
      ]
    },
    {
      "cell_type": "markdown",
      "source": [
        "### Notebook parameters"
      ],
      "metadata": {
        "id": "H4qOhuPgSl14"
      }
    },
    {
      "cell_type": "code",
      "source": [
        "model_id = 'sentence-transformers/LaBSE'\n",
        "augmented_data_dir = 'mixup_data_SBERT-LaBSE/'"
      ],
      "metadata": {
        "id": "0BpNz9MaSo64"
      },
      "execution_count": 1,
      "outputs": []
    },
    {
      "cell_type": "markdown",
      "source": [
        "###Installing dependencies"
      ],
      "metadata": {
        "id": "ulM0bcl5RFgj"
      }
    },
    {
      "cell_type": "code",
      "metadata": {
        "id": "SZC4_TbBCVGP",
        "colab": {
          "base_uri": "https://localhost:8080/"
        },
        "outputId": "8bedbc5d-b307-41d2-bb6d-5577eb690935"
      },
      "source": [
        "# SBERT\n",
        "!pip install -U sentence-transformers"
      ],
      "execution_count": 2,
      "outputs": [
        {
          "output_type": "stream",
          "name": "stdout",
          "text": [
            "Requirement already satisfied: sentence-transformers in /usr/local/lib/python3.7/dist-packages (2.2.0)\n",
            "Requirement already satisfied: transformers<5.0.0,>=4.6.0 in /usr/local/lib/python3.7/dist-packages (from sentence-transformers) (4.18.0)\n",
            "Requirement already satisfied: nltk in /usr/local/lib/python3.7/dist-packages (from sentence-transformers) (3.2.5)\n",
            "Requirement already satisfied: tqdm in /usr/local/lib/python3.7/dist-packages (from sentence-transformers) (4.64.0)\n",
            "Requirement already satisfied: scipy in /usr/local/lib/python3.7/dist-packages (from sentence-transformers) (1.4.1)\n",
            "Requirement already satisfied: torchvision in /usr/local/lib/python3.7/dist-packages (from sentence-transformers) (0.12.0+cu113)\n",
            "Requirement already satisfied: huggingface-hub in /usr/local/lib/python3.7/dist-packages (from sentence-transformers) (0.5.1)\n",
            "Requirement already satisfied: scikit-learn in /usr/local/lib/python3.7/dist-packages (from sentence-transformers) (1.0.2)\n",
            "Requirement already satisfied: numpy in /usr/local/lib/python3.7/dist-packages (from sentence-transformers) (1.21.6)\n",
            "Requirement already satisfied: sentencepiece in /usr/local/lib/python3.7/dist-packages (from sentence-transformers) (0.1.96)\n",
            "Requirement already satisfied: torch>=1.6.0 in /usr/local/lib/python3.7/dist-packages (from sentence-transformers) (1.11.0+cu113)\n",
            "Requirement already satisfied: typing-extensions in /usr/local/lib/python3.7/dist-packages (from torch>=1.6.0->sentence-transformers) (4.2.0)\n",
            "Requirement already satisfied: requests in /usr/local/lib/python3.7/dist-packages (from transformers<5.0.0,>=4.6.0->sentence-transformers) (2.23.0)\n",
            "Requirement already satisfied: filelock in /usr/local/lib/python3.7/dist-packages (from transformers<5.0.0,>=4.6.0->sentence-transformers) (3.6.0)\n",
            "Requirement already satisfied: sacremoses in /usr/local/lib/python3.7/dist-packages (from transformers<5.0.0,>=4.6.0->sentence-transformers) (0.0.53)\n",
            "Requirement already satisfied: importlib-metadata in /usr/local/lib/python3.7/dist-packages (from transformers<5.0.0,>=4.6.0->sentence-transformers) (4.11.3)\n",
            "Requirement already satisfied: pyyaml>=5.1 in /usr/local/lib/python3.7/dist-packages (from transformers<5.0.0,>=4.6.0->sentence-transformers) (6.0)\n",
            "Requirement already satisfied: tokenizers!=0.11.3,<0.13,>=0.11.1 in /usr/local/lib/python3.7/dist-packages (from transformers<5.0.0,>=4.6.0->sentence-transformers) (0.12.1)\n",
            "Requirement already satisfied: packaging>=20.0 in /usr/local/lib/python3.7/dist-packages (from transformers<5.0.0,>=4.6.0->sentence-transformers) (21.3)\n",
            "Requirement already satisfied: regex!=2019.12.17 in /usr/local/lib/python3.7/dist-packages (from transformers<5.0.0,>=4.6.0->sentence-transformers) (2019.12.20)\n",
            "Requirement already satisfied: pyparsing!=3.0.5,>=2.0.2 in /usr/local/lib/python3.7/dist-packages (from packaging>=20.0->transformers<5.0.0,>=4.6.0->sentence-transformers) (3.0.8)\n",
            "Requirement already satisfied: zipp>=0.5 in /usr/local/lib/python3.7/dist-packages (from importlib-metadata->transformers<5.0.0,>=4.6.0->sentence-transformers) (3.8.0)\n",
            "Requirement already satisfied: six in /usr/local/lib/python3.7/dist-packages (from nltk->sentence-transformers) (1.15.0)\n",
            "Requirement already satisfied: urllib3!=1.25.0,!=1.25.1,<1.26,>=1.21.1 in /usr/local/lib/python3.7/dist-packages (from requests->transformers<5.0.0,>=4.6.0->sentence-transformers) (1.24.3)\n",
            "Requirement already satisfied: certifi>=2017.4.17 in /usr/local/lib/python3.7/dist-packages (from requests->transformers<5.0.0,>=4.6.0->sentence-transformers) (2021.10.8)\n",
            "Requirement already satisfied: idna<3,>=2.5 in /usr/local/lib/python3.7/dist-packages (from requests->transformers<5.0.0,>=4.6.0->sentence-transformers) (2.10)\n",
            "Requirement already satisfied: chardet<4,>=3.0.2 in /usr/local/lib/python3.7/dist-packages (from requests->transformers<5.0.0,>=4.6.0->sentence-transformers) (3.0.4)\n",
            "Requirement already satisfied: joblib in /usr/local/lib/python3.7/dist-packages (from sacremoses->transformers<5.0.0,>=4.6.0->sentence-transformers) (1.1.0)\n",
            "Requirement already satisfied: click in /usr/local/lib/python3.7/dist-packages (from sacremoses->transformers<5.0.0,>=4.6.0->sentence-transformers) (7.1.2)\n",
            "Requirement already satisfied: threadpoolctl>=2.0.0 in /usr/local/lib/python3.7/dist-packages (from scikit-learn->sentence-transformers) (3.1.0)\n",
            "Requirement already satisfied: pillow!=8.3.*,>=5.3.0 in /usr/local/lib/python3.7/dist-packages (from torchvision->sentence-transformers) (7.1.2)\n"
          ]
        }
      ]
    },
    {
      "cell_type": "markdown",
      "source": [
        "###Loading dataset"
      ],
      "metadata": {
        "id": "JKxh20wnSdB9"
      }
    },
    {
      "cell_type": "code",
      "metadata": {
        "id": "EbIQcDr5DOvt",
        "colab": {
          "base_uri": "https://localhost:8080/"
        },
        "outputId": "c8624f60-6560-4a92-b523-ecbdc7e9a811"
      },
      "source": [
        "from google.colab import drive\n",
        "drive.mount('/content/gdrive', force_remount=True)\n",
        "g_drive_dir = \"/content/gdrive/MyDrive/\"\n",
        "dataset_dir = 'fact_extraction_AILA/'"
      ],
      "execution_count": 3,
      "outputs": [
        {
          "output_type": "stream",
          "name": "stdout",
          "text": [
            "Mounted at /content/gdrive\n"
          ]
        }
      ]
    },
    {
      "cell_type": "code",
      "metadata": {
        "id": "Bqyx0OT17NLH"
      },
      "source": [
        "!rm -r data\n",
        "!mkdir data\n",
        "!mkdir data/train\n",
        "!tar -xf {g_drive_dir}{dataset_dir}train.tar.xz -C data/train\n",
        "!mkdir data/test\n",
        "!tar -xf {g_drive_dir}{dataset_dir}test.tar.xz -C data/test\n",
        "\n",
        "train_dir = 'data/train/'\n",
        "test_dir = 'data/test/'"
      ],
      "execution_count": 4,
      "outputs": []
    },
    {
      "cell_type": "code",
      "metadata": {
        "id": "SKyAA8pvFp0f",
        "colab": {
          "base_uri": "https://localhost:8080/"
        },
        "outputId": "d76b78d3-4165-4951-be41-9795b30996b2"
      },
      "source": [
        "import pandas as pd\n",
        "from os import listdir\n",
        "import csv\n",
        "\n",
        "def read_docs(dir_name):\n",
        "  \"\"\"\n",
        "  Read the docs in a directory.\n",
        "  Params:\n",
        "    dir_name : the directory that contains the documents.\n",
        "  Returns:\n",
        "    A dictionary whose keys are the names of the read files and the values are \n",
        "    pandas dataframes. Each dataframe has sentence and label columns.\n",
        "  \"\"\"\n",
        "  docs = {} # key: file name, value: dataframe with sentences and labels\n",
        "  for f in listdir(dir_name):\n",
        "    df = pd.read_csv(\n",
        "        dir_name + f, \n",
        "        sep='\\t', \n",
        "        quoting=csv.QUOTE_NONE, \n",
        "        names=['sentence', 'label'])\n",
        "    docs[f] = df\n",
        "  return docs\n",
        "\n",
        "docs_train = read_docs(train_dir)\n",
        "docs_test = read_docs(test_dir)\n",
        "\n",
        "print(f'TRAIN: {len(docs_train)} documents read.')\n",
        "print(f'TEST: {len(docs_test)} documents read.')"
      ],
      "execution_count": 5,
      "outputs": [
        {
          "output_type": "stream",
          "name": "stdout",
          "text": [
            "TRAIN: 50 documents read.\n",
            "TEST: 10 documents read.\n"
          ]
        }
      ]
    },
    {
      "cell_type": "markdown",
      "source": [
        "### Loading aumented data\n",
        " \n",
        " The agumented data was generated in another notebook. Here, we just load it.\n",
        " \n",
        " There are several sets of augmented data  generated with different valus of alpha. Also, there are sets generated from the hole AILA dataset and sets generated following a division of cross-validation folds.\n",
        "\n"
      ],
      "metadata": {
        "id": "cEUqCQL4tBaX"
      }
    },
    {
      "cell_type": "code",
      "source": [
        "import numpy as np\n",
        "\n",
        "augmented_data = {} # key: alpha (as string), value: (augmented vectos, augmented targets)\n",
        "augmented_data_by_fold = {} # key: alpha (as string), value: dictionary where the keys are fold IDs and the values are lists [augmented vectos, augmented targets]\n",
        "for f in listdir(g_drive_dir + dataset_dir + augmented_data_dir):\n",
        "  if f.endswith('.npy'):\n",
        "    f_data = np.load(g_drive_dir + dataset_dir + augmented_data_dir + f)\n",
        "    alpha = f[6:9].replace('_', '.')\n",
        "    if f.find('fold') != -1:\n",
        "      temp_dic = augmented_data_by_fold.get(alpha, {})\n",
        "      augmented_data_by_fold[alpha] = temp_dic\n",
        "      temp_key = int(f[15:16]) # fold ID\n",
        "    else:\n",
        "      temp_dic = augmented_data\n",
        "      temp_key = alpha\n",
        "    t_data = temp_dic.get(temp_key, [None, None])\n",
        "    if f.find('features') != -1: # feature data\n",
        "      t_data[0] = f_data\n",
        "    else: # target data\n",
        "      t_data[1] = f_data\n",
        "    temp_dic[temp_key] = t_data"
      ],
      "metadata": {
        "id": "B7wrulP0KJXF"
      },
      "execution_count": 6,
      "outputs": []
    },
    {
      "cell_type": "markdown",
      "source": [
        "###Features"
      ],
      "metadata": {
        "id": "z-uLf334Sky7"
      }
    },
    {
      "cell_type": "code",
      "metadata": {
        "id": "0_PuBM8gKUMy"
      },
      "source": [
        "from sentence_transformers import SentenceTransformer\n",
        "\n",
        "sent_encoder = SentenceTransformer(model_id)\n",
        "sent_encoder.max_seq_length = 512"
      ],
      "execution_count": 7,
      "outputs": []
    },
    {
      "cell_type": "code",
      "source": [
        "n_features = sent_encoder.get_sentence_embedding_dimension()\n",
        "print(f'Features dimension: {n_features}')"
      ],
      "metadata": {
        "id": "4YsD1f8EmLQA",
        "colab": {
          "base_uri": "https://localhost:8080/"
        },
        "outputId": "8e553d4a-7ca4-4e70-d47b-b49ae2029f12"
      },
      "execution_count": 8,
      "outputs": [
        {
          "output_type": "stream",
          "name": "stdout",
          "text": [
            "Features dimension: 768\n"
          ]
        }
      ]
    },
    {
      "cell_type": "code",
      "source": [
        "import numpy as np\n",
        "\n",
        "# Train features\n",
        "train_features = None    # numpy matrix with shape (number of vectors, n_features)\n",
        "train_labels = []       # list of strings (labels)\n",
        "docs_train_features = {} # key: file id, value: numpy matrix of features\n",
        "for doc_id, df in docs_train.items():\n",
        "  features = sent_encoder.encode(df['sentence'].to_list())\n",
        "  docs_train_features[doc_id] = features\n",
        "  if train_features is None:\n",
        "    train_features = features\n",
        "  else:\n",
        "    train_features = np.vstack((train_features, features))\n",
        "  train_labels.extend(df['label'].tolist())\n",
        "\n",
        "print(f'{train_features.shape[0]} sentences.')"
      ],
      "metadata": {
        "id": "hQ8CevQ1WZrW",
        "colab": {
          "base_uri": "https://localhost:8080/"
        },
        "outputId": "5804b710-a808-493e-9729-68a31ab3bc12"
      },
      "execution_count": 9,
      "outputs": [
        {
          "output_type": "stream",
          "name": "stdout",
          "text": [
            "9380 sentences.\n"
          ]
        }
      ]
    },
    {
      "cell_type": "code",
      "source": [
        "# Test features\n",
        "test_features = None    # numpy matrix with shape (number of vectors, n_features)\n",
        "test_labels = []       # list of strings (labels)\n",
        "for df in docs_test.values():\n",
        "  if test_features is None:\n",
        "    test_features = sent_encoder.encode(df['sentence'].to_list())\n",
        "  else:\n",
        "    test_features = np.vstack((test_features, sent_encoder.encode(df['sentence'].to_list())))\n",
        "  test_labels.extend(df['label'].tolist())\n",
        "\n",
        "test_features.shape"
      ],
      "metadata": {
        "id": "NT7GpBnLXslV",
        "colab": {
          "base_uri": "https://localhost:8080/"
        },
        "outputId": "e6288a0b-1eb3-42f4-b78b-2b03937c7ab9"
      },
      "execution_count": 10,
      "outputs": [
        {
          "output_type": "execute_result",
          "data": {
            "text/plain": [
              "(1905, 768)"
            ]
          },
          "metadata": {},
          "execution_count": 10
        }
      ]
    },
    {
      "cell_type": "markdown",
      "source": [
        "### Encoding / Decoding labels"
      ],
      "metadata": {
        "id": "VDKGVd_GilFi"
      }
    },
    {
      "cell_type": "code",
      "source": [
        "def encode_label(labels):\n",
        "  tensor = np.zeros((len(labels), 2))\n",
        "  for i, str_label in enumerate(labels):\n",
        "    if str_label == 'Facts':\n",
        "      tensor[i,0] = 1 # [1,0]\n",
        "    elif str_label == 'Other':\n",
        "      tensor[i,1] = 1 # [0,1]\n",
        "    else:\n",
        "      raise ValueError('Unknown label: ', str_label)\n",
        "  return tensor\n",
        "\n",
        "def decode_vector_label(tensor):\n",
        "  if tensor.shape[1] != 2:\n",
        "    raise ValueError('Invalid tensor dimension: ', tensor.shape)\n",
        "  labels = []\n",
        "  for i in range(tensor.shape[0]):\n",
        "    if tensor[i,0] == 1 and tensor[i,1] == 0:\n",
        "      labels.append('Facts')\n",
        "    elif tensor[i,1] == 1 and tensor[i,0] == 0:\n",
        "      labels.append('Other')\n",
        "    else:\n",
        "      raise ValueError(f'Unknown value in the tensor at index {i}: {tensor[i][0]}')\n",
        "  return labels"
      ],
      "metadata": {
        "id": "fVC60Lu6irPz"
      },
      "execution_count": 11,
      "outputs": []
    },
    {
      "cell_type": "markdown",
      "source": [
        "### Evaluation functions"
      ],
      "metadata": {
        "id": "v88xd4EkYp3-"
      }
    },
    {
      "cell_type": "code",
      "source": [
        "# Reading the file containing the sets of trains documents and test documents by fold\n",
        "train_files_by_fold = {}  # Key: fold ID, value: file names (list of string)\n",
        "test_files_by_fold = {}   # Key: fold ID, value: file names (list of string)\n",
        "\n",
        "df_folds = pd.read_csv(\n",
        "  g_drive_dir + dataset_dir + 'train_docs_by_fold.csv', \n",
        "  sep=';', \n",
        "  names=['fold id', 'train', 'test'], \n",
        "  header=0)\n",
        "\n",
        "for _, row in df_folds.iterrows():\n",
        "  train_files_by_fold[row['fold id']] = row['train'].split(',')\n",
        "  test_files_by_fold[row['fold id']] = row['test'].split(',')\n",
        "\n",
        "for fold_id in train_files_by_fold.keys():\n",
        "  print(f'Fold {fold_id}: \\n\\tTrain files: {train_files_by_fold[fold_id]} \\n\\tTest files: {test_files_by_fold[fold_id]}')\n"
      ],
      "metadata": {
        "colab": {
          "base_uri": "https://localhost:8080/"
        },
        "id": "Vczv_kxnNq2F",
        "outputId": "d84c9d70-9376-4d4f-fccb-6c9afa5b8309"
      },
      "execution_count": 12,
      "outputs": [
        {
          "output_type": "stream",
          "name": "stdout",
          "text": [
            "Fold 0: \n",
            "\tTrain files: ['d_44.txt', 'd_39.txt', 'd_12.txt', 'd_2.txt', 'd_7.txt', 'd_33.txt', 'd_16.txt', 'd_8.txt', 'd_42.txt', 'd_34.txt', 'd_40.txt', 'd_24.txt', 'd_36.txt', 'd_11.txt', 'd_13.txt', 'd_19.txt', 'd_18.txt', 'd_4.txt', 'd_1.txt', 'd_21.txt', 'd_15.txt', 'd_23.txt', 'd_32.txt', 'd_9.txt', 'd_5.txt', 'd_3.txt', 'd_26.txt', 'd_20.txt', 'd_30.txt', 'd_41.txt', 'd_46.txt', 'd_43.txt', 'd_50.txt', 'd_27.txt', 'd_25.txt', 'd_35.txt', 'd_45.txt', 'd_17.txt', 'd_48.txt', 'd_6.txt'] \n",
            "\tTest files: ['d_22.txt', 'd_31.txt', 'd_49.txt', 'd_14.txt', 'd_29.txt', 'd_47.txt', 'd_10.txt', 'd_38.txt', 'd_28.txt', 'd_37.txt']\n",
            "Fold 1: \n",
            "\tTrain files: ['d_22.txt', 'd_31.txt', 'd_49.txt', 'd_14.txt', 'd_29.txt', 'd_47.txt', 'd_10.txt', 'd_38.txt', 'd_28.txt', 'd_37.txt', 'd_40.txt', 'd_24.txt', 'd_36.txt', 'd_11.txt', 'd_13.txt', 'd_19.txt', 'd_18.txt', 'd_4.txt', 'd_1.txt', 'd_21.txt', 'd_15.txt', 'd_23.txt', 'd_32.txt', 'd_9.txt', 'd_5.txt', 'd_3.txt', 'd_26.txt', 'd_20.txt', 'd_30.txt', 'd_41.txt', 'd_46.txt', 'd_43.txt', 'd_50.txt', 'd_27.txt', 'd_25.txt', 'd_35.txt', 'd_45.txt', 'd_17.txt', 'd_48.txt', 'd_6.txt'] \n",
            "\tTest files: ['d_44.txt', 'd_39.txt', 'd_12.txt', 'd_2.txt', 'd_7.txt', 'd_33.txt', 'd_16.txt', 'd_8.txt', 'd_42.txt', 'd_34.txt']\n",
            "Fold 2: \n",
            "\tTrain files: ['d_22.txt', 'd_31.txt', 'd_49.txt', 'd_14.txt', 'd_29.txt', 'd_47.txt', 'd_10.txt', 'd_38.txt', 'd_28.txt', 'd_37.txt', 'd_44.txt', 'd_39.txt', 'd_12.txt', 'd_2.txt', 'd_7.txt', 'd_33.txt', 'd_16.txt', 'd_8.txt', 'd_42.txt', 'd_34.txt', 'd_15.txt', 'd_23.txt', 'd_32.txt', 'd_9.txt', 'd_5.txt', 'd_3.txt', 'd_26.txt', 'd_20.txt', 'd_30.txt', 'd_41.txt', 'd_46.txt', 'd_43.txt', 'd_50.txt', 'd_27.txt', 'd_25.txt', 'd_35.txt', 'd_45.txt', 'd_17.txt', 'd_48.txt', 'd_6.txt'] \n",
            "\tTest files: ['d_40.txt', 'd_24.txt', 'd_36.txt', 'd_11.txt', 'd_13.txt', 'd_19.txt', 'd_18.txt', 'd_4.txt', 'd_1.txt', 'd_21.txt']\n",
            "Fold 3: \n",
            "\tTrain files: ['d_22.txt', 'd_31.txt', 'd_49.txt', 'd_14.txt', 'd_29.txt', 'd_47.txt', 'd_10.txt', 'd_38.txt', 'd_28.txt', 'd_37.txt', 'd_44.txt', 'd_39.txt', 'd_12.txt', 'd_2.txt', 'd_7.txt', 'd_33.txt', 'd_16.txt', 'd_8.txt', 'd_42.txt', 'd_34.txt', 'd_40.txt', 'd_24.txt', 'd_36.txt', 'd_11.txt', 'd_13.txt', 'd_19.txt', 'd_18.txt', 'd_4.txt', 'd_1.txt', 'd_21.txt', 'd_46.txt', 'd_43.txt', 'd_50.txt', 'd_27.txt', 'd_25.txt', 'd_35.txt', 'd_45.txt', 'd_17.txt', 'd_48.txt', 'd_6.txt'] \n",
            "\tTest files: ['d_15.txt', 'd_23.txt', 'd_32.txt', 'd_9.txt', 'd_5.txt', 'd_3.txt', 'd_26.txt', 'd_20.txt', 'd_30.txt', 'd_41.txt']\n",
            "Fold 4: \n",
            "\tTrain files: ['d_22.txt', 'd_31.txt', 'd_49.txt', 'd_14.txt', 'd_29.txt', 'd_47.txt', 'd_10.txt', 'd_38.txt', 'd_28.txt', 'd_37.txt', 'd_44.txt', 'd_39.txt', 'd_12.txt', 'd_2.txt', 'd_7.txt', 'd_33.txt', 'd_16.txt', 'd_8.txt', 'd_42.txt', 'd_34.txt', 'd_40.txt', 'd_24.txt', 'd_36.txt', 'd_11.txt', 'd_13.txt', 'd_19.txt', 'd_18.txt', 'd_4.txt', 'd_1.txt', 'd_21.txt', 'd_15.txt', 'd_23.txt', 'd_32.txt', 'd_9.txt', 'd_5.txt', 'd_3.txt', 'd_26.txt', 'd_20.txt', 'd_30.txt', 'd_41.txt'] \n",
            "\tTest files: ['d_46.txt', 'd_43.txt', 'd_50.txt', 'd_27.txt', 'd_25.txt', 'd_35.txt', 'd_45.txt', 'd_17.txt', 'd_48.txt', 'd_6.txt']\n"
          ]
        }
      ]
    },
    {
      "cell_type": "code",
      "source": [
        "def get_features_by_fold(fold_id):\n",
        "  \"\"\"\n",
        "  Return the feature vectors and the respective labels of a specific cross-validation\n",
        "  fold.\n",
        "  Arguments:\n",
        "    fold_id : the ID of the fold.\n",
        "  Returns:\n",
        "    The train feature vectors (numpy Matrix).\n",
        "    The train labels (list of strings).\n",
        "    The test feature vectors (numpy Matrix).\n",
        "    The test labels (list of strings).\n",
        "  \"\"\"\n",
        "  # train features\n",
        "  train_features_fold = None\n",
        "  train_labels_fold = []\n",
        "  for doc_id in train_files_by_fold[fold_id]:\n",
        "    if train_features_fold is None:\n",
        "      train_features_fold = docs_train_features[doc_id]\n",
        "    else:\n",
        "      train_features_fold = np.vstack((train_features_fold, docs_train_features[doc_id]))\n",
        "    train_labels_fold.extend(docs_train[doc_id]['label'].tolist())\n",
        "  # test features\n",
        "  test_features_fold = None\n",
        "  test_labels_fold = []\n",
        "  for doc_id in test_files_by_fold[fold_id]:\n",
        "    if test_features_fold is None:\n",
        "      test_features_fold = docs_train_features[doc_id]\n",
        "    else:\n",
        "      test_features_fold = np.vstack((test_features_fold, docs_train_features[doc_id]))\n",
        "    test_labels_fold.extend(docs_train[doc_id]['label'].tolist())\n",
        "  return train_features_fold, train_labels_fold, test_features_fold, test_labels_fold\n",
        "\n",
        "def append_fold_augmented_data(alpha, fold_id, embeddings, targets):\n",
        "  aug_data = augmented_data_by_fold[alpha][fold_id]\n",
        "  appended_embeddings = np.vstack((embeddings, aug_data[0]))\n",
        "  appended_targets = np.vstack((targets, aug_data[1]))\n",
        "  return appended_embeddings, appended_targets"
      ],
      "metadata": {
        "id": "2tW4t6bRGO44"
      },
      "execution_count": 13,
      "outputs": []
    },
    {
      "cell_type": "code",
      "metadata": {
        "id": "w7kqIQO6Yzuz"
      },
      "source": [
        "import sklearn\n",
        "from sklearn.metrics import precision_recall_fscore_support\n",
        "\n",
        "def cross_validation(trainer, alpha_str):\n",
        "  # Cross validation: for train, it uses augmented data + folder data. For test, it uses folder data only\n",
        "  print(f'\\n### Evaluation with cross-validation: alpha = {alpha_str} ###')\n",
        "  train_metrics_cross = []\n",
        "  test_metrics_cross = []\n",
        "  for fold_id in train_files_by_fold.keys():\n",
        "    print(f'Starting fold {fold_id}')\n",
        "    # getting features and labels of the current fold\n",
        "    train_features_fold, train_labels_fold, test_features_fold, test_labels_fold = get_features_by_fold(fold_id)\n",
        "    # encoding labels as one-hot vectors\n",
        "    train_targets_fold = encode_label(train_labels_fold)\n",
        "    test_targets_fold = encode_label(test_labels_fold)\n",
        "    # appending augmented data\n",
        "    train_features, train_targets = append_fold_augmented_data(alpha_str, fold_id, train_features_fold, train_targets_fold)\n",
        "    #training model\n",
        "    model = trainer(train_features, train_targets)\n",
        "    # test metrics\n",
        "    predictions = model.predict(test_features_fold)\n",
        "    p_test, r_test, f1_test, _ = precision_recall_fscore_support(\n",
        "        test_labels_fold, \n",
        "        predictions, \n",
        "        average='binary', \n",
        "        pos_label='Facts', \n",
        "        zero_division=0)\n",
        "    test_metrics_cross.append([p_test, r_test, f1_test])\n",
        "    # train metrics\n",
        "    predictions = model.predict(train_features_fold)\n",
        "    p_train, r_train, f1_train, _ = precision_recall_fscore_support(\n",
        "        train_labels_fold, \n",
        "        predictions, \n",
        "        average='binary', \n",
        "        pos_label='Facts', \n",
        "        zero_division=0)\n",
        "    train_metrics_cross.append([p_train, r_train, f1_train])\n",
        "  \n",
        "  test_metrics_cross = np.array(test_metrics_cross)\n",
        "  test_mean = np.mean(test_metrics_cross, axis=0)\n",
        "  test_std = np.std(test_metrics_cross, axis=0)\n",
        "  train_metrics_cross = np.array(train_metrics_cross)\n",
        "  train_mean = np.mean(train_metrics_cross, axis=0)\n",
        "  train_std = np.std(train_metrics_cross, axis=0)\n",
        "  \n",
        "  print(f'\\nMean precision - std deviation => train: {train_mean[0]:.4f} {train_std[0]:.4f} \\t test: {test_mean[0]:.4f} {test_std[0]:.4f}')\n",
        "  print(f'Mean recall - std deviation    => train: {train_mean[1]:.4f} {train_std[1]:.4f} \\t test: {test_mean[1]:.4f} {test_std[1]:.4f}')\n",
        "  print(f'Mean f1 - std deviation        => train: {train_mean[2]:.4f} {train_std[2]:.4f} \\t test: {test_mean[2]:.4f} {test_std[2]:.4f}')\n"
      ],
      "execution_count": 14,
      "outputs": []
    },
    {
      "cell_type": "code",
      "source": [
        "from sklearn.metrics import confusion_matrix, ConfusionMatrixDisplay\n",
        "\n",
        "test_metrics = {}\n",
        "\n",
        "def evaluate_with_test_set(trainer, alpha_str):\n",
        "  print(f'\\n### Evaluation with the test set: alpha = {alpha_str} ###')\n",
        "  # coverting labels to one-hot vectors\n",
        "  train_targets = encode_label(train_labels)\n",
        "  test_targets = encode_label(test_labels)\n",
        "  # using augmented data for training\n",
        "  augmented_x, augmented_y = augmented_data[alpha_str]\n",
        "  train_x = np.vstack((train_features, augmented_x))\n",
        "  train_y = np.vstack((train_targets, augmented_y))\n",
        "  # train\n",
        "  model = trainer(train_x, train_y)\n",
        "  # evaluation without augmented data\n",
        "  predictions = model.predict(test_features)\n",
        "  # Precision, Recall, F1\n",
        "  t_metrics = precision_recall_fscore_support(\n",
        "    test_labels, \n",
        "    predictions, \n",
        "    average='binary', \n",
        "    pos_label='Facts', \n",
        "    zero_division=0)\n",
        "  metrics_entry = test_metrics.get(model.__class__.__name__, [])\n",
        "  metrics_entry.append((t_metrics[0], t_metrics[1], t_metrics[2], alpha_str))\n",
        "  test_metrics[model.__class__.__name__] = metrics_entry\n",
        "  print(f'Precision: {t_metrics[0]:.4f}')\n",
        "  print(f'Recall:    {t_metrics[1]:.4f}')\n",
        "  print(f'F-score:   {t_metrics[2]:.4f}')\n",
        "  # Confusion matrix\n",
        "  cm_labels = ['Other', 'Facts']\n",
        "  cm = confusion_matrix(\n",
        "    test_labels, \n",
        "    predictions, \n",
        "    labels=cm_labels)\n",
        "  dm_display = ConfusionMatrixDisplay(cm, display_labels=cm_labels)\n",
        "  dm_display.plot()\n",
        "  dm_display.ax_.set_title(f'alpha = {alpha_str}')\n"
      ],
      "metadata": {
        "id": "p_OKpqfrOqk-"
      },
      "execution_count": 15,
      "outputs": []
    },
    {
      "cell_type": "markdown",
      "source": [
        "###Models"
      ],
      "metadata": {
        "id": "oId_qxnBSqby"
      }
    },
    {
      "cell_type": "code",
      "source": [
        "import torch\n",
        "\n",
        "pu_device = torch.device(\"cuda:0\" if torch.cuda.is_available() else \"cpu\")"
      ],
      "metadata": {
        "id": "qG0ydsRhhwrW"
      },
      "execution_count": 16,
      "outputs": []
    },
    {
      "cell_type": "code",
      "source": [
        "from torch.utils.data import Dataset\n",
        "\n",
        "class MyDataset(Dataset):\n",
        "  def __init__(self, inputs, targets, device):\n",
        "    self.X = torch.from_numpy(inputs).float().to(device)\n",
        "    self.y = torch.from_numpy(targets).float().to(device)\n",
        "\n",
        "  def __len__(self):\n",
        "    return len(self.X)\n",
        "\n",
        "  def __getitem__(self, idx):\n",
        "    return [self.X[idx], self.y[idx]]"
      ],
      "metadata": {
        "id": "rsOzoiMXh3jd"
      },
      "execution_count": 17,
      "outputs": []
    },
    {
      "cell_type": "markdown",
      "source": [
        "#### MLP"
      ],
      "metadata": {
        "id": "S_yCs_buhy4_"
      }
    },
    {
      "cell_type": "code",
      "source": [
        "from torch.optim import Adam\n",
        "from torch.utils.data import DataLoader\n",
        "from sklearn.model_selection import ShuffleSplit\n",
        "\n",
        "torch.manual_seed(1)\n",
        "\n",
        "class MLPTrainer:\n",
        "\n",
        "  def __init__(self, model, device, l2_penalty=0.0001):\n",
        "    self.model = model\n",
        "    setattr(self.model.__class__, 'predict', self.predict)\n",
        "    self.device = device\n",
        "    self.model.to(device)\n",
        "    # The training replicates the default configuration from scikit-learn's MLPClassifier\n",
        "    self.criterion = torch.nn.CrossEntropyLoss().to(device)\n",
        "    self.lambd = l2_penalty # weight decay for Adam optmizer\n",
        "    self.n_epochs = 200\n",
        "\n",
        "  def fit(self, inputs, targets, verbose=False):\n",
        "    # early stopping params and variables\n",
        "    tol = 0.001\n",
        "    n_iter_no_change = 7\n",
        "    early_stop_count = 0\n",
        "    best_loss_validation = float(\"inf\")\n",
        "    # splitting train data into train and validation sets in order to perform early stopping\n",
        "    spl = ShuffleSplit(n_splits=1, train_size=0.9, random_state=1)\n",
        "    for train_index, val_index in spl.split(inputs):\n",
        "      # getting datasets\n",
        "      train_x = inputs[train_index]\n",
        "      train_y = targets[train_index]\n",
        "      validation_x = inputs[val_index]\n",
        "      validation_y = targets[val_index]\n",
        "      train_dl = DataLoader(\n",
        "        MyDataset(train_x, train_y, self.device), \n",
        "        batch_size=64)\n",
        "      validation_dl = DataLoader(\n",
        "        MyDataset(validation_x, validation_y, self.device), \n",
        "        batch_size=len(validation_x))\n",
        "      # training\n",
        "      self.model.train()\n",
        "      optimizer = Adam(\n",
        "        self.model.parameters(), \n",
        "        weight_decay=self.lambd)\n",
        "      for epoch in range(self.n_epochs):\n",
        "        # iterate mini batches\n",
        "        for x, y in train_dl:\n",
        "          optimizer.zero_grad()\n",
        "          yhat = self.model(x)\n",
        "          loss = self.criterion(yhat, y)\n",
        "          loss.backward()\n",
        "          optimizer.step()\n",
        "        # Early stopping\n",
        "        for x, y in validation_dl:\n",
        "          loss_validation = self.criterion(self.model(x), y)\n",
        "        if loss_validation >= best_loss_validation - tol:\n",
        "          early_stop_count += 1\n",
        "        else:\n",
        "          early_stop_count = 0\n",
        "          best_loss_validation = loss_validation\n",
        "        if early_stop_count == n_iter_no_change:\n",
        "          break\n",
        "    if verbose:\n",
        "      print(f'TRAIN: Stopped at epoch {epoch + 1} {\"(MAX EPOCH)\" if epoch + 1 == self.n_epochs else \"\"}')\n",
        "\n",
        "    self.model.eval()\n",
        "    return self.model\n",
        "\n",
        "  def predict(self, X):\n",
        "    y = self.model.forward(torch.from_numpy(X).float().to(self.device))\n",
        "    y_one_hot = torch.nn.functional.one_hot(torch.argmax(y, dim=1), num_classes=2)\n",
        "    return decode_vector_label(y_one_hot.detach().to('cpu').numpy())"
      ],
      "metadata": {
        "id": "WEIsgdNyh1bh"
      },
      "execution_count": 18,
      "outputs": []
    },
    {
      "cell_type": "code",
      "source": [
        "import torch.nn\n",
        "from torch.nn.init import xavier_uniform_\n",
        "from torch.nn.init import kaiming_uniform_\n",
        "\n",
        "class TorchMLP(torch.nn.Module):\n",
        "  def __init__(self, n_inputs, n_classes):\n",
        "    super(TorchMLP, self).__init__()\n",
        "    # hidden layer\n",
        "    n_hidden_units = 100\n",
        "    hidden1 = torch.nn.Linear(n_inputs, n_hidden_units)\n",
        "    kaiming_uniform_(hidden1.weight, nonlinearity='relu')\n",
        "    relu = torch.nn.ReLU()\n",
        "    # output layer\n",
        "    output = torch.nn.Linear(n_hidden_units, n_classes)\n",
        "    xavier_uniform_(output.weight)\n",
        "    # There's no need of softmax function because it's included in the CrossEntropyLoss function\n",
        "    self.layers = torch.nn.Sequential(\n",
        "      hidden1, \n",
        "      relu, \n",
        "      output)\n",
        "  \n",
        "  def forward(self, X):\n",
        "    return self.layers(X)"
      ],
      "metadata": {
        "id": "TG2Q7Wz9h_2m"
      },
      "execution_count": 19,
      "outputs": []
    },
    {
      "cell_type": "code",
      "source": [
        "def torch_mlp_trainer(X, y):\n",
        "  trainer = MLPTrainer(\n",
        "      TorchMLP(n_features, 2), \n",
        "      pu_device, \n",
        "      l2_penalty=0.0015)\n",
        "  return trainer.fit(X, y, verbose=True)"
      ],
      "metadata": {
        "id": "xlYWfWCEiF2p"
      },
      "execution_count": 20,
      "outputs": []
    },
    {
      "cell_type": "code",
      "source": [
        "%%time\n",
        "for alpha_str in augmented_data.keys():\n",
        "  cross_validation(\n",
        "      torch_mlp_trainer, \n",
        "      alpha_str)\n"
      ],
      "metadata": {
        "id": "pUbTY0qaiGY7",
        "colab": {
          "base_uri": "https://localhost:8080/"
        },
        "outputId": "eac92a3a-4928-4cd9-ff89-236d5c036955"
      },
      "execution_count": 21,
      "outputs": [
        {
          "output_type": "stream",
          "name": "stdout",
          "text": [
            "\n",
            "### Evaluation with cross-validation: alpha = 0.1 ###\n",
            "Starting fold 0\n",
            "TRAIN: Stopped at epoch 102 \n",
            "Starting fold 1\n",
            "TRAIN: Stopped at epoch 69 \n",
            "Starting fold 2\n",
            "TRAIN: Stopped at epoch 66 \n",
            "Starting fold 3\n",
            "TRAIN: Stopped at epoch 92 \n",
            "Starting fold 4\n",
            "TRAIN: Stopped at epoch 81 \n",
            "\n",
            "Mean precision - std deviation => train: 0.7822 0.0174 \t test: 0.5384 0.0968\n",
            "Mean recall - std deviation    => train: 0.8384 0.0171 \t test: 0.5724 0.0701\n",
            "Mean f1 - std deviation        => train: 0.8091 0.0108 \t test: 0.5436 0.0294\n",
            "\n",
            "### Evaluation with cross-validation: alpha = 0.5 ###\n",
            "Starting fold 0\n",
            "TRAIN: Stopped at epoch 69 \n",
            "Starting fold 1\n",
            "TRAIN: Stopped at epoch 79 \n",
            "Starting fold 2\n",
            "TRAIN: Stopped at epoch 79 \n",
            "Starting fold 3\n",
            "TRAIN: Stopped at epoch 80 \n",
            "Starting fold 4\n",
            "TRAIN: Stopped at epoch 82 \n",
            "\n",
            "Mean precision - std deviation => train: 0.7845 0.0150 \t test: 0.5581 0.1012\n",
            "Mean recall - std deviation    => train: 0.7938 0.0271 \t test: 0.5553 0.0963\n",
            "Mean f1 - std deviation        => train: 0.7886 0.0093 \t test: 0.5409 0.0349\n",
            "\n",
            "### Evaluation with cross-validation: alpha = 4.0 ###\n",
            "Starting fold 0\n",
            "TRAIN: Stopped at epoch 64 \n",
            "Starting fold 1\n",
            "TRAIN: Stopped at epoch 45 \n",
            "Starting fold 2\n",
            "TRAIN: Stopped at epoch 65 \n",
            "Starting fold 3\n",
            "TRAIN: Stopped at epoch 59 \n",
            "Starting fold 4\n",
            "TRAIN: Stopped at epoch 46 \n",
            "\n",
            "Mean precision - std deviation => train: 0.7739 0.0222 \t test: 0.5771 0.1001\n",
            "Mean recall - std deviation    => train: 0.7073 0.0357 \t test: 0.5256 0.0697\n",
            "Mean f1 - std deviation        => train: 0.7382 0.0156 \t test: 0.5388 0.0285\n",
            "\n",
            "### Evaluation with cross-validation: alpha = 1.0 ###\n",
            "Starting fold 0\n",
            "TRAIN: Stopped at epoch 76 \n",
            "Starting fold 1\n",
            "TRAIN: Stopped at epoch 61 \n",
            "Starting fold 2\n",
            "TRAIN: Stopped at epoch 61 \n",
            "Starting fold 3\n",
            "TRAIN: Stopped at epoch 81 \n",
            "Starting fold 4\n",
            "TRAIN: Stopped at epoch 67 \n",
            "\n",
            "Mean precision - std deviation => train: 0.7852 0.0221 \t test: 0.5652 0.0976\n",
            "Mean recall - std deviation    => train: 0.7567 0.0299 \t test: 0.5501 0.0870\n",
            "Mean f1 - std deviation        => train: 0.7700 0.0124 \t test: 0.5439 0.0285\n",
            "CPU times: user 5min 49s, sys: 13.2 s, total: 6min 3s\n",
            "Wall time: 6min 2s\n"
          ]
        }
      ]
    },
    {
      "cell_type": "code",
      "source": [
        "%%time\n",
        "for alpha_str in augmented_data.keys():\n",
        "  evaluate_with_test_set(\n",
        "      torch_mlp_trainer, \n",
        "      alpha_str)\n"
      ],
      "metadata": {
        "colab": {
          "base_uri": "https://localhost:8080/",
          "height": 1000
        },
        "id": "mKz8e0GDQaYx",
        "outputId": "630f430f-52ac-4cd9-b3e0-2c2daa1225bb"
      },
      "execution_count": 22,
      "outputs": [
        {
          "output_type": "stream",
          "name": "stdout",
          "text": [
            "\n",
            "### Evaluation with the test set: alpha = 0.1 ###\n",
            "TRAIN: Stopped at epoch 79 \n",
            "Precision: 0.6275\n",
            "Recall:    0.7022\n",
            "F-score:   0.6628\n",
            "\n",
            "### Evaluation with the test set: alpha = 0.5 ###\n",
            "TRAIN: Stopped at epoch 79 \n",
            "Precision: 0.6292\n",
            "Recall:    0.6526\n",
            "F-score:   0.6407\n",
            "\n",
            "### Evaluation with the test set: alpha = 4.0 ###\n",
            "TRAIN: Stopped at epoch 59 \n",
            "Precision: 0.6472\n",
            "Recall:    0.6328\n",
            "F-score:   0.6399\n",
            "\n",
            "### Evaluation with the test set: alpha = 1.0 ###\n",
            "TRAIN: Stopped at epoch 49 \n",
            "Precision: 0.6444\n",
            "Recall:    0.6476\n",
            "F-score:   0.6460\n",
            "CPU times: user 1min 16s, sys: 2.95 s, total: 1min 19s\n",
            "Wall time: 1min 18s\n"
          ]
        },
        {
          "output_type": "display_data",
          "data": {
            "text/plain": [
              "<Figure size 432x288 with 2 Axes>"
            ],
            "image/png": "[encoded data removed]"
          },
          "metadata": {
            "needs_background": "light"
          }
        },
        {
          "output_type": "display_data",
          "data": {
            "text/plain": [
              "<Figure size 432x288 with 2 Axes>"
            ],
            "image/png": "[encoded data removed]"
          },
          "metadata": {
            "needs_background": "light"
          }
        },
        {
          "output_type": "display_data",
          "data": {
            "text/plain": [
              "<Figure size 432x288 with 2 Axes>"
            ],
            "image/png": "[encoded data removed]"
          },
          "metadata": {
            "needs_background": "light"
          }
        },
        {
          "output_type": "display_data",
          "data": {
            "text/plain": [
              "<Figure size 432x288 with 2 Axes>"
            ],
            "image/png": "[encoded data removed]"
          },
          "metadata": {
            "needs_background": "light"
          }
        }
      ]
    },
    {
      "cell_type": "markdown",
      "source": [
        "#### Logistic Regression"
      ],
      "metadata": {
        "id": "mOyXyHDlUWXU"
      }
    },
    {
      "cell_type": "code",
      "source": [
        "class TorchLogisticRegression(torch.nn.Module):\n",
        "  def __init__(self, n_inputs, n_classes, device, verbose=False):\n",
        "    super(TorchLogisticRegression, self).__init__()\n",
        "    self.verbose = verbose\n",
        "    self.device = device\n",
        "    self.layer = torch.nn.Linear(n_inputs, n_classes)\n",
        "    xavier_uniform_(self.layer.weight)\n",
        "\n",
        "  def forward(self, X):\n",
        "    return self.layer(X)\n",
        "  \n",
        "  def predict(self, X):\n",
        "    y = self.forward(torch.from_numpy(X).float().to(self.device))\n",
        "    y_one_hot = torch.nn.functional.one_hot(torch.argmax(y, dim=1), num_classes=2)\n",
        "    return decode_vector_label(y_one_hot.detach().to('cpu').numpy())\n",
        "\n",
        "  def fit(self, X, y):\n",
        "    # SGD params\n",
        "    learning_rate = 0.5\n",
        "    momentum = 0.9\n",
        "    lambda_param = 0.0001 # L2 regularization\n",
        "    n_iterations = 1000\n",
        "    decay_rate = 0.95  # learning rate decay\n",
        "    # early stopping params and variables\n",
        "    tol = 0.001\n",
        "    n_iter_no_change = 5\n",
        "    early_stop_count = 0\n",
        "    best_loss = float(\"inf\")\n",
        "    # loss function and optmizer\n",
        "    self.train()\n",
        "    criterion = torch.nn.CrossEntropyLoss().to(self.device)\n",
        "    optimizer = torch.optim.SGD(\n",
        "      self.parameters(), \n",
        "      lr=learning_rate, \n",
        "      momentum=momentum, \n",
        "      weight_decay=lambda_param)\n",
        "    lr_scheduler = torch.optim.lr_scheduler.ExponentialLR(\n",
        "      optimizer=optimizer, \n",
        "      gamma=decay_rate)\n",
        "    # Data loader\n",
        "    batch_size = 64\n",
        "    train_dl = DataLoader(\n",
        "      MyDataset(X, y, self.device), \n",
        "      batch_size=batch_size, \n",
        "      shuffle=True)\n",
        "    # Train loop\n",
        "    for i in range(1, n_iterations + 1):\n",
        "      # iterate mini batches\n",
        "      for x_batch, y_batch in train_dl:\n",
        "        optimizer.zero_grad()\n",
        "        y_hat = self(x_batch)\n",
        "        loss = criterion(y_hat, y_batch)\n",
        "        loss.backward()\n",
        "        optimizer.step()\n",
        "      lr_scheduler.step()\n",
        "      # early stop\n",
        "      if loss >= best_loss - tol:\n",
        "        early_stop_count += 1\n",
        "      else:\n",
        "        early_stop_count = 0\n",
        "        best_loss = loss\n",
        "      if early_stop_count == n_iter_no_change:\n",
        "        break\n",
        "    \n",
        "    if self.verbose:\n",
        "      print(f'TRAIN: Stopped at iteration {i} {\"(MAX ITERATION)\" if i == n_iterations else \"\"}')\n",
        "    self.eval()\n",
        "    return self\n"
      ],
      "metadata": {
        "id": "42a9bIfeUZpL"
      },
      "execution_count": 23,
      "outputs": []
    },
    {
      "cell_type": "code",
      "source": [
        "def torch_lr_trainer(X, y):\n",
        "  lr_ = TorchLogisticRegression(n_features, 2, pu_device, verbose=True).to(pu_device)\n",
        "  return lr_.fit(X, y)"
      ],
      "metadata": {
        "id": "7Scque0JV-zQ"
      },
      "execution_count": 24,
      "outputs": []
    },
    {
      "cell_type": "code",
      "source": [
        "%%time\n",
        "for alpha_str in augmented_data.keys():\n",
        "  cross_validation(\n",
        "      torch_lr_trainer, \n",
        "      alpha_str)\n"
      ],
      "metadata": {
        "colab": {
          "base_uri": "https://localhost:8080/"
        },
        "outputId": "40447c7a-f9fc-40aa-9260-1fd5fb97e370",
        "id": "h2WW4PyaV4y0"
      },
      "execution_count": 25,
      "outputs": [
        {
          "output_type": "stream",
          "name": "stdout",
          "text": [
            "\n",
            "### Evaluation with cross-validation: alpha = 0.1 ###\n",
            "Starting fold 0\n",
            "TRAIN: Stopped at iteration 15 \n",
            "Starting fold 1\n",
            "TRAIN: Stopped at iteration 19 \n",
            "Starting fold 2\n",
            "TRAIN: Stopped at iteration 12 \n",
            "Starting fold 3\n",
            "TRAIN: Stopped at iteration 10 \n",
            "Starting fold 4\n",
            "TRAIN: Stopped at iteration 8 \n",
            "\n",
            "Mean precision - std deviation => train: 0.6565 0.0240 \t test: 0.5612 0.0975\n",
            "Mean recall - std deviation    => train: 0.6054 0.0690 \t test: 0.5121 0.0685\n",
            "Mean f1 - std deviation        => train: 0.6265 0.0265 \t test: 0.5234 0.0177\n",
            "\n",
            "### Evaluation with cross-validation: alpha = 0.5 ###\n",
            "Starting fold 0\n",
            "TRAIN: Stopped at iteration 19 \n",
            "Starting fold 1\n",
            "TRAIN: Stopped at iteration 7 \n",
            "Starting fold 2\n",
            "TRAIN: Stopped at iteration 7 \n",
            "Starting fold 3\n",
            "TRAIN: Stopped at iteration 25 \n",
            "Starting fold 4\n",
            "TRAIN: Stopped at iteration 10 \n",
            "\n",
            "Mean precision - std deviation => train: 0.6637 0.0171 \t test: 0.5609 0.0935\n",
            "Mean recall - std deviation    => train: 0.5957 0.0585 \t test: 0.5088 0.1171\n",
            "Mean f1 - std deviation        => train: 0.6255 0.0280 \t test: 0.5142 0.0366\n",
            "\n",
            "### Evaluation with cross-validation: alpha = 4.0 ###\n",
            "Starting fold 0\n",
            "TRAIN: Stopped at iteration 13 \n",
            "Starting fold 1\n",
            "TRAIN: Stopped at iteration 17 \n",
            "Starting fold 2\n",
            "TRAIN: Stopped at iteration 12 \n",
            "Starting fold 3\n",
            "TRAIN: Stopped at iteration 12 \n",
            "Starting fold 4\n",
            "TRAIN: Stopped at iteration 8 \n",
            "\n",
            "Mean precision - std deviation => train: 0.6770 0.0334 \t test: 0.5715 0.0878\n",
            "Mean recall - std deviation    => train: 0.5646 0.0650 \t test: 0.4767 0.0756\n",
            "Mean f1 - std deviation        => train: 0.6117 0.0274 \t test: 0.5100 0.0358\n",
            "\n",
            "### Evaluation with cross-validation: alpha = 1.0 ###\n",
            "Starting fold 0\n",
            "TRAIN: Stopped at iteration 16 \n",
            "Starting fold 1\n",
            "TRAIN: Stopped at iteration 8 \n",
            "Starting fold 2\n",
            "TRAIN: Stopped at iteration 9 \n",
            "Starting fold 3\n",
            "TRAIN: Stopped at iteration 7 \n",
            "Starting fold 4\n",
            "TRAIN: Stopped at iteration 11 \n",
            "\n",
            "Mean precision - std deviation => train: 0.6325 0.0343 \t test: 0.5447 0.0890\n",
            "Mean recall - std deviation    => train: 0.6484 0.0786 \t test: 0.5585 0.0952\n",
            "Mean f1 - std deviation        => train: 0.6356 0.0304 \t test: 0.5400 0.0398\n",
            "CPU times: user 46.3 s, sys: 1.39 s, total: 47.7 s\n",
            "Wall time: 47.2 s\n"
          ]
        }
      ]
    },
    {
      "cell_type": "code",
      "source": [
        "%%time\n",
        "for alpha_str in augmented_data.keys():\n",
        "  evaluate_with_test_set(\n",
        "      torch_lr_trainer, \n",
        "      alpha_str)\n"
      ],
      "metadata": {
        "colab": {
          "base_uri": "https://localhost:8080/",
          "height": 1000
        },
        "outputId": "000b6201-be48-4e8b-9058-05a6be93b5bb",
        "id": "7zAvq36VV4y8"
      },
      "execution_count": 26,
      "outputs": [
        {
          "output_type": "stream",
          "name": "stdout",
          "text": [
            "\n",
            "### Evaluation with the test set: alpha = 0.1 ###\n",
            "TRAIN: Stopped at iteration 11 \n",
            "Precision: 0.6357\n",
            "Recall:    0.6104\n",
            "F-score:   0.6228\n",
            "\n",
            "### Evaluation with the test set: alpha = 0.5 ###\n",
            "TRAIN: Stopped at iteration 11 \n",
            "Precision: 0.6131\n",
            "Recall:    0.6725\n",
            "F-score:   0.6414\n",
            "\n",
            "### Evaluation with the test set: alpha = 4.0 ###\n",
            "TRAIN: Stopped at iteration 11 \n",
            "Precision: 0.6317\n",
            "Recall:    0.6129\n",
            "F-score:   0.6222\n",
            "\n",
            "### Evaluation with the test set: alpha = 1.0 ###\n",
            "TRAIN: Stopped at iteration 21 \n",
            "Precision: 0.6817\n",
            "Recall:    0.5261\n",
            "F-score:   0.5938\n",
            "CPU times: user 11.3 s, sys: 377 ms, total: 11.6 s\n",
            "Wall time: 11.5 s\n"
          ]
        },
        {
          "output_type": "display_data",
          "data": {
            "text/plain": [
              "<Figure size 432x288 with 2 Axes>"
            ],
            "image/png": "[encoded data removed]"
          },
          "metadata": {
            "needs_background": "light"
          }
        },
        {
          "output_type": "display_data",
          "data": {
            "text/plain": [
              "<Figure size 432x288 with 2 Axes>"
            ],
            "image/png": "[encoded data removed]"
          },
          "metadata": {
            "needs_background": "light"
          }
        },
        {
          "output_type": "display_data",
          "data": {
            "text/plain": [
              "<Figure size 432x288 with 2 Axes>"
            ],
            "image/png": "[encoded data removed]"
          },
          "metadata": {
            "needs_background": "light"
          }
        },
        {
          "output_type": "display_data",
          "data": {
            "text/plain": [
              "<Figure size 432x288 with 2 Axes>"
            ],
            "image/png": "[encoded data removed]"
          },
          "metadata": {
            "needs_background": "light"
          }
        }
      ]
    },
    {
      "cell_type": "markdown",
      "source": [
        "### Results"
      ],
      "metadata": {
        "id": "DFJidtV64A1R"
      }
    },
    {
      "cell_type": "code",
      "source": [
        "from IPython.display import display, update_display\n",
        "\n",
        "metrics_df = pd.DataFrame(columns=['Model', 'alpha', 'Precision', 'Recall', 'F1'])\n",
        "i = 0\n",
        "for model_name, entries in test_metrics.items():\n",
        "  for metrics in entries:\n",
        "    metrics_df.loc[i] = [model_name, metrics[3], f'{metrics[0]:.4f}', f'{metrics[1]:.4f}', f'{metrics[2]:.4f}']\n",
        "    i += 1\n",
        "metrics_display = display(metrics_df, display_id='metrics_table')"
      ],
      "metadata": {
        "colab": {
          "base_uri": "https://localhost:8080/",
          "height": 300
        },
        "id": "NPi2Cp6zWit4",
        "outputId": "4e143daa-869e-4bb9-aea7-409ffedbcdb4"
      },
      "execution_count": 27,
      "outputs": [
        {
          "output_type": "display_data",
          "data": {
            "text/plain": [
              "                     Model alpha Precision  Recall      F1\n",
              "0                 TorchMLP   0.1    0.6275  0.7022  0.6628\n",
              "1                 TorchMLP   0.5    0.6292  0.6526  0.6407\n",
              "2                 TorchMLP   4.0    0.6472  0.6328  0.6399\n",
              "3                 TorchMLP   1.0    0.6444  0.6476  0.6460\n",
              "4  TorchLogisticRegression   0.1    0.6357  0.6104  0.6228\n",
              "5  TorchLogisticRegression   0.5    0.6131  0.6725  0.6414\n",
              "6  TorchLogisticRegression   4.0    0.6317  0.6129  0.6222\n",
              "7  TorchLogisticRegression   1.0    0.6817  0.5261  0.5938"
            ],
            "text/html": [
              "\n",
              "  <div id=\"df-0fb98ea0-d4e2-4cd1-ab9a-5b0346e590a5\">\n",
              "    <div class=\"colab-df-container\">\n",
              "      <div>\n",
              "<style scoped>\n",
              "    .dataframe tbody tr th:only-of-type {\n",
              "        vertical-align: middle;\n",
              "    }\n",
              "\n",
              "    .dataframe tbody tr th {\n",
              "        vertical-align: top;\n",
              "    }\n",
              "\n",
              "    .dataframe thead th {\n",
              "        text-align: right;\n",
              "    }\n",
              "</style>\n",
              "<table border=\"1\" class=\"dataframe\">\n",
              "  <thead>\n",
              "    <tr style=\"text-align: right;\">\n",
              "      <th></th>\n",
              "      <th>Model</th>\n",
              "      <th>alpha</th>\n",
              "      <th>Precision</th>\n",
              "      <th>Recall</th>\n",
              "      <th>F1</th>\n",
              "    </tr>\n",
              "  </thead>\n",
              "  <tbody>\n",
              "    <tr>\n",
              "      <th>0</th>\n",
              "      <td>TorchMLP</td>\n",
              "      <td>0.1</td>\n",
              "      <td>0.6275</td>\n",
              "      <td>0.7022</td>\n",
              "      <td>0.6628</td>\n",
              "    </tr>\n",
              "    <tr>\n",
              "      <th>1</th>\n",
              "      <td>TorchMLP</td>\n",
              "      <td>0.5</td>\n",
              "      <td>0.6292</td>\n",
              "      <td>0.6526</td>\n",
              "      <td>0.6407</td>\n",
              "    </tr>\n",
              "    <tr>\n",
              "      <th>2</th>\n",
              "      <td>TorchMLP</td>\n",
              "      <td>4.0</td>\n",
              "      <td>0.6472</td>\n",
              "      <td>0.6328</td>\n",
              "      <td>0.6399</td>\n",
              "    </tr>\n",
              "    <tr>\n",
              "      <th>3</th>\n",
              "      <td>TorchMLP</td>\n",
              "      <td>1.0</td>\n",
              "      <td>0.6444</td>\n",
              "      <td>0.6476</td>\n",
              "      <td>0.6460</td>\n",
              "    </tr>\n",
              "    <tr>\n",
              "      <th>4</th>\n",
              "      <td>TorchLogisticRegression</td>\n",
              "      <td>0.1</td>\n",
              "      <td>0.6357</td>\n",
              "      <td>0.6104</td>\n",
              "      <td>0.6228</td>\n",
              "    </tr>\n",
              "    <tr>\n",
              "      <th>5</th>\n",
              "      <td>TorchLogisticRegression</td>\n",
              "      <td>0.5</td>\n",
              "      <td>0.6131</td>\n",
              "      <td>0.6725</td>\n",
              "      <td>0.6414</td>\n",
              "    </tr>\n",
              "    <tr>\n",
              "      <th>6</th>\n",
              "      <td>TorchLogisticRegression</td>\n",
              "      <td>4.0</td>\n",
              "      <td>0.6317</td>\n",
              "      <td>0.6129</td>\n",
              "      <td>0.6222</td>\n",
              "    </tr>\n",
              "    <tr>\n",
              "      <th>7</th>\n",
              "      <td>TorchLogisticRegression</td>\n",
              "      <td>1.0</td>\n",
              "      <td>0.6817</td>\n",
              "      <td>0.5261</td>\n",
              "      <td>0.5938</td>\n",
              "    </tr>\n",
              "  </tbody>\n",
              "</table>\n",
              "</div>\n",
              "      <button class=\"colab-df-convert\" onclick=\"convertToInteractive('df-0fb98ea0-d4e2-4cd1-ab9a-5b0346e590a5')\"\n",
              "              title=\"Convert this dataframe to an interactive table.\"\n",
              "              style=\"display:none;\">\n",
              "        \n",
              "  <svg xmlns=\"http://www.w3.org/2000/svg\" height=\"24px\"viewBox=\"0 0 24 24\"\n",
              "       width=\"24px\">\n",
              "    <path d=\"M0 0h24v24H0V0z\" fill=\"none\"/>\n",
              "    <path d=\"M18.56 5.44l.94 2.06.94-2.06 2.06-.94-2.06-.94-.94-2.06-.94 2.06-2.06.94zm-11 1L8.5 8.5l.94-2.06 2.06-.94-2.06-.94L8.5 2.5l-.94 2.06-2.06.94zm10 10l.94 2.06.94-2.06 2.06-.94-2.06-.94-.94-2.06-.94 2.06-2.06.94z\"/><path d=\"M17.41 7.96l-1.37-1.37c-.4-.4-.92-.59-1.43-.59-.52 0-1.04.2-1.43.59L10.3 9.45l-7.72 7.72c-.78.78-.78 2.05 0 2.83L4 21.41c.39.39.9.59 1.41.59.51 0 1.02-.2 1.41-.59l7.78-7.78 2.81-2.81c.8-.78.8-2.07 0-2.86zM5.41 20L4 18.59l7.72-7.72 1.47 1.35L5.41 20z\"/>\n",
              "  </svg>\n",
              "      </button>\n",
              "      \n",
              "  <style>\n",
              "    .colab-df-container {\n",
              "      display:flex;\n",
              "      flex-wrap:wrap;\n",
              "      gap: 12px;\n",
              "    }\n",
              "\n",
              "    .colab-df-convert {\n",
              "      background-color: #E8F0FE;\n",
              "      border: none;\n",
              "      border-radius: 50%;\n",
              "      cursor: pointer;\n",
              "      display: none;\n",
              "      fill: #1967D2;\n",
              "      height: 32px;\n",
              "      padding: 0 0 0 0;\n",
              "      width: 32px;\n",
              "    }\n",
              "\n",
              "    .colab-df-convert:hover {\n",
              "      background-color: #E2EBFA;\n",
              "      box-shadow: 0px 1px 2px rgba(60, 64, 67, 0.3), 0px 1px 3px 1px rgba(60, 64, 67, 0.15);\n",
              "      fill: #174EA6;\n",
              "    }\n",
              "\n",
              "    [theme=dark] .colab-df-convert {\n",
              "      background-color: #3B4455;\n",
              "      fill: #D2E3FC;\n",
              "    }\n",
              "\n",
              "    [theme=dark] .colab-df-convert:hover {\n",
              "      background-color: #434B5C;\n",
              "      box-shadow: 0px 1px 3px 1px rgba(0, 0, 0, 0.15);\n",
              "      filter: drop-shadow(0px 1px 2px rgba(0, 0, 0, 0.3));\n",
              "      fill: #FFFFFF;\n",
              "    }\n",
              "  </style>\n",
              "\n",
              "      <script>\n",
              "        const buttonEl =\n",
              "          document.querySelector('#df-0fb98ea0-d4e2-4cd1-ab9a-5b0346e590a5 button.colab-df-convert');\n",
              "        buttonEl.style.display =\n",
              "          google.colab.kernel.accessAllowed ? 'block' : 'none';\n",
              "\n",
              "        async function convertToInteractive(key) {\n",
              "          const element = document.querySelector('#df-0fb98ea0-d4e2-4cd1-ab9a-5b0346e590a5');\n",
              "          const dataTable =\n",
              "            await google.colab.kernel.invokeFunction('convertToInteractive',\n",
              "                                                     [key], {});\n",
              "          if (!dataTable) return;\n",
              "\n",
              "          const docLinkHtml = 'Like what you see? Visit the ' +\n",
              "            '<a target=\"_blank\" href=https://colab.research.google.com/notebooks/data_table.ipynb>data table notebook</a>'\n",
              "            + ' to learn more about interactive tables.';\n",
              "          element.innerHTML = '';\n",
              "          dataTable['output_type'] = 'display_data';\n",
              "          await google.colab.output.renderOutput(dataTable, element);\n",
              "          const docLink = document.createElement('div');\n",
              "          docLink.innerHTML = docLinkHtml;\n",
              "          element.appendChild(docLink);\n",
              "        }\n",
              "      </script>\n",
              "    </div>\n",
              "  </div>\n",
              "  "
            ]
          },
          "metadata": {}
        }
      ]
    },
    {
      "cell_type": "markdown",
      "source": [
        "### Reference paper:\n",
        "\n",
        "> Paheli Bhattacharya, Shounak Paul, Kripabandhu Ghosh, Saptarshi Ghosh, and Adam Wyner. 2019. **Identification of Rhetorical Roles of Sentences in Indian Legal Judgments**. In Proc. International Conference on Legal Knowledge and Information Systems (JURIX).\n",
        "\n"
      ],
      "metadata": {
        "id": "wGY1RH6n7bHC"
      }
    },
    {
      "cell_type": "code",
      "source": [
        ""
      ],
      "metadata": {
        "id": "i7MNsIbYTwGT"
      },
      "execution_count": 27,
      "outputs": []
    }
  ]
}